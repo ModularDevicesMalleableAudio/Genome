{
 "cells": [
  {
   "cell_type": "code",
   "execution_count": 1,
   "id": "7f43d0ae-36fe-4671-a4a3-1930aa4af873",
   "metadata": {
    "tags": []
   },
   "outputs": [],
   "source": [
    "import random\n",
    "from math import ceil"
   ]
  },
  {
   "cell_type": "markdown",
   "id": "47678035-3243-4741-9ad6-9cda29571d79",
   "metadata": {},
   "source": [
    "### Initialise"
   ]
  },
  {
   "cell_type": "code",
   "execution_count": 2,
   "id": "2a5ae65c-a0be-45a7-bcd9-32678d1df19d",
   "metadata": {
    "tags": []
   },
   "outputs": [],
   "source": [
    "minor = [0,2,3,5,7,8,10,12]\n",
    "target = [0, 2, 3, 5, 0, 2, 3, 8]\n",
    "# target = [12, 12, 12, 12, 5, 7, 0, 12]"
   ]
  },
  {
   "cell_type": "code",
   "execution_count": 3,
   "id": "37c4cd17-b424-4685-a9df-f81a208fdd3e",
   "metadata": {
    "tags": []
   },
   "outputs": [],
   "source": [
    "agents = [[minor[random.randint(0,7)] for x in range(8)] for i in range(100)]"
   ]
  },
  {
   "cell_type": "code",
   "execution_count": 4,
   "id": "01c48ef3-f0d9-4022-8966-8e26002825dc",
   "metadata": {
    "tags": []
   },
   "outputs": [
    {
     "data": {
      "text/plain": [
       "[[8, 12, 5, 3, 8, 7, 0, 0],\n",
       " [0, 0, 10, 12, 0, 12, 2, 3],\n",
       " [3, 12, 10, 2, 10, 2, 2, 12],\n",
       " [7, 0, 2, 0, 8, 12, 10, 10]]"
      ]
     },
     "execution_count": 4,
     "metadata": {},
     "output_type": "execute_result"
    }
   ],
   "source": [
    "agents[:4]"
   ]
  },
  {
   "cell_type": "code",
   "execution_count": 40,
   "id": "dc508961-6056-4e03-a9a5-34e8a5950f51",
   "metadata": {},
   "outputs": [
    {
     "data": {
      "text/plain": [
       "'3, 7, 5, 0, 5, 5, 5, 12'"
      ]
     },
     "execution_count": 40,
     "metadata": {},
     "output_type": "execute_result"
    }
   ],
   "source": [
    "\", \".join([str(i) for i in agents[0]])"
   ]
  },
  {
   "cell_type": "code",
   "execution_count": 50,
   "id": "c16c0a60-8070-426b-860f-1e90c19980ac",
   "metadata": {
    "tags": []
   },
   "outputs": [],
   "source": [
    "from collections.abc import Sequence\n",
    "\n",
    "\n",
    "class Agent(Sequence):\n",
    "    def __init__(self, target, scale=minor, notes=None):\n",
    "        self.target = target\n",
    "        self.scale = scale\n",
    "        self.n = len(target) \n",
    "        if not notes:\n",
    "            self.notes = [self.scale[random.randint(0, self.n - 1)] for i in range(0, self.n)]\n",
    "        else:\n",
    "            self.notes = notes\n",
    "        super().__init__()\n",
    "    \n",
    "    def __repr__(self) -> str:\n",
    "        return f\"[{', '.join([str(i) for i in self.notes])}]\"\n",
    "    \n",
    "    def __getitem__(self, i) -> int:\n",
    "        return self.notes[i]\n",
    "    \n",
    "    def __len__(self) -> int:\n",
    "        return len(self.notes)   \n",
    "\n",
    "    def __eq__(self, other) -> bool:\n",
    "        if len(self.notes) != len(other.notes):\n",
    "            return False\n",
    "        return all(self.notes[idx]==other.notes[idx] for idx in range(0, self.n))\n",
    "            \n",
    "    def __le__(self, other) -> bool:\n",
    "        return self.evaluate() >= other.evaluate()\n",
    "\n",
    "    def __lt__(self, other) -> bool:\n",
    "        return self.evaluate() > other.evaluate()\n",
    "\n",
    "    def __ge__(self, other) -> bool:\n",
    "        return self.evaluate() <= other.evaluate()\n",
    "\n",
    "    def __gt__(self, other) -> bool:\n",
    "        return self.evaluate() < other.evaluate()\n",
    "    \n",
    "    def set_target(self, target):\n",
    "        self.target = target\n",
    "    \n",
    "    # def reproduce(self, partner) -> Agent:\n",
    "    #     crossover = random.randint(1, self.n - 1)\n",
    "    #     return Agent(\n",
    "    #         target=self.target,\n",
    "    #         scale=self.scale,\n",
    "    #         notes=self.notes[:crossover] + partner.notes[crossover:]\n",
    "    #     )\n",
    "    \n",
    "    def reproduce(self, partner) -> \"Agent\":\n",
    "        crossover_mask = [random.randint(0,1) for i in range(len(self.notes))]\n",
    "        inheritance = {0: self.notes, 1: partner.notes}\n",
    "        return Agent(\n",
    "            target=self.target,\n",
    "            scale=self.scale,\n",
    "            notes=[inheritance[x][n] for n,x in enumerate(crossover_mask)]\n",
    "        )\n",
    "        \n",
    "    # def _evaluate(self) -> int:\n",
    "    #     return sum([(self.target[idx] - self.notes[idx]) ** 2 for idx in range(self.n-1)])\n",
    "    \n",
    "    # def evaluate(self):\n",
    "    #     score = self._evaluate()\n",
    "    #     transition_factor=0\n",
    "    #     target_transitions = [(self.target[i], self.target[i+1]) for i in range(self.n - 1)]\n",
    "    #     note_transitions = [(self.notes[i], self.notes[i+1]) for i in range(self.n - 1)]\n",
    "    #     for note_transition, target_transition in zip(note_transitions, target_transitions):\n",
    "    #         if note_transition==target_transition:\n",
    "    #             score+=1\n",
    "    #     return score * (1 - (transition_factor / self.n))\n",
    "    \n",
    "    def evaluate(self):\n",
    "        score=0\n",
    "        target_transitions = [(self.target[i], self.target[i+1]) for i in range(self.n - 1)] + [(self.target[-1], self.target[0])]\n",
    "        note_transitions = [(self.notes[i], self.notes[i+1]) for i in range(self.n - 1)] + [(self.notes[-1], self.notes[0])]\n",
    "        for note_transition, target_transition in zip(note_transitions, target_transitions):\n",
    "            if note_transition==target_transition:\n",
    "                score+=1\n",
    "        return score\n",
    "    \n",
    "    def mutate(self) -> None:\n",
    "        idx_to_mutate = random.randint(0, self.n-1)\n",
    "        note_to_mutate = self.notes[idx_to_mutate]\n",
    "        self.notes[idx_to_mutate] = random.choice(list(set(self.scale) - {note_to_mutate}))\n",
    "    \n",
    "        \n",
    "class Population():\n",
    "    def __init__(self, target, r: float = 0.1, m: float = 0.2, n_agents: int = 20, scale: list[int] = minor):\n",
    "        self.reproduction_rate = r\n",
    "        self.mutation_rate = m\n",
    "        self.n_agents = n_agents\n",
    "        self.target = target\n",
    "        self.scale = scale \n",
    "        self.agents = [Agent(target=self.target, scale=self.scale) for idx in range(0,self.n_agents)]\n",
    "        self.n_generations = 0\n",
    "    \n",
    "    def __repr__(self):\n",
    "        return f\"Population with {self.n_agents} agents and targetting: {target}\"\n",
    "    \n",
    "    def __getitem__(self, i):\n",
    "        return self.agents[i]\n",
    "    \n",
    "    def __len__(self):\n",
    "        return self.n_agents   \n",
    "\n",
    "    def __iter__(self):\n",
    "        for agent in self.agents:\n",
    "            yield agent\n",
    "\n",
    "    def process(self):\n",
    "        fitnesses = [agent.evaluate() for agent in self.agents]\n",
    "        selection_weights = [f / sum(fitnesses) for f in fitnesses]\n",
    "        # selection_weights = [1 - (f / sum(fitnesses)) for f in fitnesses]\n",
    "        best_agent = min(self.agents)\n",
    "        \n",
    "        print(f\"{self.n_generations} Best agent: {best_agent}: {best_agent.evaluate()}\")\n",
    "        not_dead = random.choices(\n",
    "            self.agents,\n",
    "            k=int((1-self.reproduction_rate) * self.n_agents),\n",
    "            weights=selection_weights, \n",
    "        )\n",
    "        n_to_reproduce = (self.n_agents - len(not_dead)) * 2\n",
    "        \n",
    "        reproduction_pool = random.shuffle(\n",
    "            random.choices(\n",
    "                self.agents, \n",
    "                k=n_to_reproduce,\n",
    "                weights=selection_weights,\n",
    "            )\n",
    "        )\n",
    "        new_offspring = []\n",
    "        for i in range(0,int(n_to_reproduce/2)):\n",
    "            new_offspring.append(\n",
    "                self.agents[i].reproduce(self.agents[i+int(n_to_reproduce/2)])\n",
    "            )\n",
    "        \n",
    "        self.agents = not_dead + new_offspring\n",
    "        \n",
    "        for idx in random.sample(range(0, self.n_agents), k=int(self.mutation_rate * self.n_agents)):\n",
    "            self.agents[idx].mutate()\n",
    "        self.n_generations += 1\n",
    "        "
   ]
  },
  {
   "cell_type": "code",
   "execution_count": null,
   "id": "cc920274-93e9-4347-af25-356267806c34",
   "metadata": {},
   "outputs": [],
   "source": [
    "class Population():\n",
    "    def __init__(self, target, r: float = 0.1, m: float = 0.2, n_agents: int = 20, scale: list[int] = minor):\n",
    "        self.reproduction_rate = r\n",
    "        self.mutation_rate = m\n",
    "        self.n_agents = n_agents\n",
    "        self.target = target\n",
    "        self.scale = scale \n",
    "        self.agents = [Agent(target=self.target, scale=self.scale) for idx in range(0,self.n_agents)]\n",
    "        self.n_generations = 0\n",
    "    \n",
    "    def __getitem__(self, i):\n",
    "        return self.agents[i]\n",
    "    \n",
    "    def __len__(self):\n",
    "        return self.n_agents   \n",
    "\n",
    "\n",
    "    def process(self):\n",
    "        fitnesses = [agent.evaluate() for agent in self.agents]\n",
    "        selection_weights = [f / sum(fitnesses) for f in fitnesses]\n",
    "        best_agent = min(self.agents)\n",
    "        \n",
    "        # Randomly (weighted by fitness) select (with replacement) agents that survive this iteration\n",
    "        not_dead = random.choices(\n",
    "            self.agents,\n",
    "            k=int((1-self.reproduction_rate) * self.n_agents),\n",
    "            weights=selection_weights, \n",
    "        )\n",
    "        \n",
    "        # calculate the number of agents that should reproduce\n",
    "        n_to_reproduce = (self.n_agents - len(not_dead)) * 2\n",
    "        \n",
    "        # Weighted by fitness) select (with replacement) n_to_reproduce agents\n",
    "        reproduction_pool = random.choices(\n",
    "            self.agents, \n",
    "            k=n_to_reproduce,\n",
    "            weights=selection_weights,\n",
    "        )\n",
    "    \n",
    "        # make pairs of offspring from the reproduction pool, and reproduce to create new_offspring\n",
    "        new_offspring = []\n",
    "        for i in range(0, int(n_to_reproduce/2)):\n",
    "            new_offspring.append(\n",
    "                reproduction_pool[i].reproduce(reproduction_pool[i+int(n_to_reproduce/2)])\n",
    "            )\n",
    "            \n",
    "        # the next iteration's agents are those surviving agents and the offspring of those that reproduced\n",
    "        self.agents = not_dead + new_offspring\n",
    "        \n",
    "        # Mutate the proportion of agents dictated by the mutation rate\n",
    "        for idx in random.sample(range(0, self.n_agents), k=int(self.mutation_rate * self.n_agents)):\n",
    "            self.agents[idx].mutate()\n",
    "        self.n_generations += 1"
   ]
  },
  {
   "cell_type": "code",
   "execution_count": 51,
   "id": "e80c5f1d-1b04-4d49-993d-724469e2be61",
   "metadata": {
    "tags": []
   },
   "outputs": [
    {
     "name": "stdout",
     "output_type": "stream",
     "text": [
      "0 Best agent: [12, 2, 3, 5, 2, 0, 7, 3]: 2\n",
      "1 Best agent: [5, 2, 3, 5, 12, 7, 3, 8]: 3\n",
      "2 Best agent: [0, 2, 3, 5, 2, 7, 3, 8]: 5\n",
      "3 Best agent: [8, 2, 3, 5, 0, 2, 3, 2]: 5\n",
      "4 Best agent: [8, 2, 3, 5, 0, 2, 3, 2]: 5\n",
      "5 Best agent: [0, 2, 3, 5, 7, 8, 3, 8]: 5\n",
      "6 Best agent: [0, 2, 3, 5, 0, 0, 10, 8]: 5\n",
      "7 Best agent: [0, 2, 3, 5, 0, 2, 3, 8]: 8\n",
      "8 Best agent: [0, 2, 3, 5, 0, 2, 3, 8]: 8\n",
      "9 Best agent: [0, 2, 3, 5, 0, 2, 3, 8]: 8\n",
      "10 Best agent: [0, 2, 3, 5, 0, 2, 3, 8]: 8\n",
      "11 Best agent: [0, 2, 3, 5, 0, 2, 3, 8]: 8\n",
      "12 Best agent: [0, 2, 3, 5, 0, 2, 3, 8]: 8\n",
      "13 Best agent: [0, 2, 3, 5, 0, 2, 3, 8]: 8\n",
      "14 Best agent: [0, 2, 3, 5, 0, 2, 3, 8]: 8\n",
      "15 Best agent: [0, 2, 3, 5, 0, 2, 3, 8]: 8\n",
      "16 Best agent: [0, 2, 3, 5, 0, 2, 3, 8]: 8\n",
      "17 Best agent: [0, 2, 3, 5, 0, 2, 3, 8]: 8\n",
      "18 Best agent: [0, 2, 3, 5, 0, 2, 3, 8]: 8\n",
      "19 Best agent: [0, 2, 3, 5, 0, 2, 3, 8]: 8\n"
     ]
    }
   ],
   "source": [
    "population = Population(target=target, r=0.25, m=0.05, n_agents=750)\n",
    "for i in range(20):\n",
    "    population.process()"
   ]
  },
  {
   "cell_type": "code",
   "execution_count": 42,
   "id": "82391023-9f3f-456a-81d7-f2f12ece94c4",
   "metadata": {
    "tags": []
   },
   "outputs": [
    {
     "data": {
      "text/plain": [
       "[0, 2, 3, 5, 0, 2, 3, 8]"
      ]
     },
     "execution_count": 42,
     "metadata": {},
     "output_type": "execute_result"
    }
   ],
   "source": [
    "target"
   ]
  },
  {
   "cell_type": "code",
   "execution_count": 43,
   "id": "419b225f-69e0-4894-84a6-c09d8ba8efc9",
   "metadata": {
    "tags": []
   },
   "outputs": [
    {
     "name": "stdout",
     "output_type": "stream",
     "text": [
      "0 Best agent: [0, 2, 3, 5, 10, 5, 2, 10]: 4\n",
      "1 Best agent: [0, 2, 3, 5, 10, 5, 2, 10]: 4\n",
      "2 Best agent: [0, 2, 3, 5, 10, 5, 2, 10]: 4\n",
      "3 Best agent: [0, 2, 3, 5, 10, 5, 2, 10]: 4\n",
      "4 Best agent: [0, 2, 3, 5, 10, 5, 7, 10]: 4\n",
      "5 Best agent: [0, 2, 3, 5, 0, 5, 7, 10]: 5\n",
      "6 Best agent: [0, 2, 3, 5, 0, 5, 7, 10]: 5\n",
      "7 Best agent: [0, 2, 3, 5, 0, 5, 7, 8]: 6\n",
      "8 Best agent: [0, 2, 3, 5, 0, 5, 7, 8]: 6\n",
      "9 Best agent: [0, 2, 3, 5, 10, 5, 7, 8]: 5\n",
      "10 Best agent: [0, 2, 3, 5, 8, 12, 8, 10]: 4\n",
      "11 Best agent: [0, 2, 3, 5, 10, 5, 7, 10]: 4\n",
      "12 Best agent: [0, 2, 3, 5, 8, 5, 2, 7]: 4\n",
      "13 Best agent: [0, 2, 3, 5, 10, 12, 7, 12]: 4\n",
      "14 Best agent: [0, 2, 3, 5, 0, 12, 10, 12]: 5\n",
      "15 Best agent: [0, 2, 3, 5, 3, 5, 2, 8]: 5\n",
      "16 Best agent: [0, 2, 3, 5, 3, 5, 2, 8]: 5\n",
      "17 Best agent: [0, 2, 3, 5, 10, 5, 5, 10]: 4\n",
      "18 Best agent: [0, 2, 3, 5, 10, 5, 7, 10]: 4\n",
      "19 Best agent: [0, 2, 3, 5, 5, 3, 2, 10]: 4\n"
     ]
    }
   ],
   "source": [
    "for i in range(20):\n",
    "    population.process()"
   ]
  },
  {
   "cell_type": "code",
   "execution_count": 450,
   "id": "3be309e9-f2e5-4b45-813d-acf19dd36629",
   "metadata": {},
   "outputs": [
    {
     "data": {
      "text/plain": [
       "[3, 2, 2, 5, 2, 2, 3, 3]"
      ]
     },
     "execution_count": 450,
     "metadata": {},
     "output_type": "execute_result"
    }
   ],
   "source": [
    "blah = [3, 2, 2, 5, 2, 2, 3, 3]\n",
    "# random.shuffle(blah)\n",
    "blah"
   ]
  },
  {
   "cell_type": "code",
   "execution_count": 375,
   "id": "41417f69-d4d3-4aba-a60d-d81e0a3ca85c",
   "metadata": {},
   "outputs": [],
   "source": [
    "xx=[(blah[i],blah[i+1]) for i in range(len(blah)-1)]"
   ]
  },
  {
   "cell_type": "code",
   "execution_count": 376,
   "id": "3830606f-8bde-4c32-b1ee-0d975485254f",
   "metadata": {},
   "outputs": [],
   "source": [
    "yy=[(target[i],target[i+1]) for i in range(len(target)-1)]"
   ]
  },
  {
   "cell_type": "code",
   "execution_count": 380,
   "id": "b6b7a5c6-3ee6-4dc8-bfac-ba6448a26e4a",
   "metadata": {},
   "outputs": [
    {
     "data": {
      "text/plain": [
       "0.8571428571428572"
      ]
     },
     "execution_count": 380,
     "metadata": {},
     "output_type": "execute_result"
    }
   ],
   "source": [
    "score=0\n",
    "for x,y in zip(xx,yy):\n",
    "    if x==y:\n",
    "        score+=1\n",
    "1-(score/len(yy))"
   ]
  },
  {
   "cell_type": "code",
   "execution_count": 221,
   "id": "b5e8167f-e567-44b9-a017-d117ddd4f6f5",
   "metadata": {},
   "outputs": [
    {
     "ename": "TypeError",
     "evalue": "Random.choices() missing 1 required positional argument: 'population'",
     "output_type": "error",
     "traceback": [
      "\u001b[0;31m---------------------------------------------------------------------------\u001b[0m",
      "\u001b[0;31mTypeError\u001b[0m                                 Traceback (most recent call last)",
      "Input \u001b[0;32mIn [221]\u001b[0m, in \u001b[0;36m<cell line: 1>\u001b[0;34m()\u001b[0m\n\u001b[0;32m----> 1\u001b[0m \u001b[43mrandom\u001b[49m\u001b[38;5;241;43m.\u001b[39;49m\u001b[43mchoices\u001b[49m\u001b[43m(\u001b[49m\u001b[43mk\u001b[49m\u001b[38;5;241;43m=\u001b[39;49m\u001b[38;5;241;43m2\u001b[39;49m\u001b[43m,\u001b[49m\u001b[43m \u001b[49m\u001b[43mweights\u001b[49m\u001b[38;5;241;43m=\u001b[39;49m\u001b[43mselection\u001b[49m\u001b[43m)\u001b[49m\n",
      "\u001b[0;31mTypeError\u001b[0m: Random.choices() missing 1 required positional argument: 'population'"
     ]
    }
   ],
   "source": [
    "random.choices(k=2, weights=selection)"
   ]
  },
  {
   "cell_type": "code",
   "execution_count": 197,
   "id": "d6065148-b671-42b8-a3ad-c84c73b07816",
   "metadata": {},
   "outputs": [
    {
     "data": {
      "text/plain": [
       "[False, False, True, False, False, False, False]"
      ]
     },
     "execution_count": 197,
     "metadata": {},
     "output_type": "execute_result"
    }
   ],
   "source": [
    "[a.notes[idx]==b.notes[idx] for idx in range(0, len(target)-1)]"
   ]
  },
  {
   "cell_type": "code",
   "execution_count": 198,
   "id": "39f5fd87-a715-466e-8421-b40a83263175",
   "metadata": {},
   "outputs": [
    {
     "data": {
      "text/plain": [
       "[True, True, True, True, True, True, True]"
      ]
     },
     "execution_count": 198,
     "metadata": {},
     "output_type": "execute_result"
    }
   ],
   "source": [
    "[a.notes[idx]==a.notes[idx] for idx in range(0, len(target)-1)]"
   ]
  },
  {
   "cell_type": "code",
   "execution_count": 202,
   "id": "0f0f47ad-18ef-4168-82c5-8c6248cb3bf5",
   "metadata": {},
   "outputs": [
    {
     "data": {
      "text/plain": [
       "(False, True)"
      ]
     },
     "execution_count": 202,
     "metadata": {},
     "output_type": "execute_result"
    }
   ],
   "source": [
    "all(a.notes[idx]==b.notes[idx] for idx in range(0, len(target)-1)), all(a.notes[idx]==a.notes[idx] for idx in range(0, len(target)-1))"
   ]
  },
  {
   "cell_type": "code",
   "execution_count": 189,
   "id": "3fd0cc63-4699-4cc6-9f28-7b49d17cc93a",
   "metadata": {},
   "outputs": [
    {
     "name": "stdout",
     "output_type": "stream",
     "text": [
      "0 [12, 2, 5, 7, 3, 8, 10]\n",
      "1 [8, 8, 5, 3, 10, 10, 0]\n",
      "2 [5, 0, 12, 7, 10, 7, 2]\n",
      "3 [3, 8, 7, 10, 5, 10, 7]\n",
      "4 [7, 10, 5, 5, 5, 8, 12]\n",
      "5 [7, 12, 2, 3, 10, 2, 8]\n",
      "6 [8, 0, 10, 10, 8, 8, 2]\n",
      "7 [5, 5, 0, 3, 12, 8, 8]\n",
      "8 [3, 5, 8, 12, 0, 8, 5]\n",
      "9 [5, 10, 7, 3, 0, 12, 7]\n",
      "10 [3, 2, 0, 7, 5, 10, 5]\n",
      "11 [3, 3, 8, 3, 5, 0, 5]\n",
      "12 [12, 3, 8, 8, 0, 3, 10]\n",
      "13 [7, 3, 5, 10, 12, 2, 7]\n",
      "14 [5, 2, 7, 10, 5, 0, 2]\n",
      "15 [12, 0, 5, 3, 7, 0, 5]\n",
      "16 [12, 10, 8, 8, 0, 3, 5]\n",
      "17 [10, 7, 0, 2, 7, 8, 5]\n",
      "18 [0, 5, 7, 3, 12, 10, 5]\n",
      "19 [12, 8, 8, 3, 7, 5, 0]\n",
      "20 [0, 5, 8, 2, 0, 5, 10]\n",
      "21 [7, 3, 12, 3, 10, 10, 8]\n",
      "22 [2, 2, 8, 12, 10, 5, 12]\n",
      "23 [0, 2, 2, 10, 3, 7, 2]\n",
      "24 [2, 3, 10, 0, 5, 5, 12]\n",
      "25 [0, 0, 12, 0, 12, 2, 8]\n",
      "26 [12, 0, 5, 7, 7, 12, 0]\n",
      "27 [0, 12, 0, 12, 0, 0, 2]\n",
      "28 [8, 0, 10, 2, 2, 5, 7]\n",
      "29 [12, 10, 10, 8, 10, 5, 5]\n"
     ]
    }
   ],
   "source": [
    "for n, agent in enumerate(population):\n",
    "    print(n,agent)"
   ]
  },
  {
   "cell_type": "code",
   "execution_count": 222,
   "id": "ba8c4b60-6e91-47b8-b1d0-c9b116d8f54e",
   "metadata": {},
   "outputs": [
    {
     "name": "stdout",
     "output_type": "stream",
     "text": [
      "[(77, 0.9292929292929293), (48, 0.9559228650137741), (128, 0.8824609733700642), (396, 0.6363636363636364), (94, 0.9136822773186409), (116, 0.8934802571166207), (230, 0.7887970615243343)]\n"
     ]
    }
   ],
   "source": [
    "a = Agent(target=target)\n",
    "b = Agent(target=target)\n",
    "c = Agent(target=target)\n",
    "d = Agent(target=target)\n",
    "e = a.reproduce(b)\n",
    "f = c.reproduce(a)\n",
    "g = Agent(target=target)\n",
    "agents = (a,b,c,d,e,f,g)\n",
    "fitness = [agent.evaluate() for agent in agents]\n",
    "total_fitness = sum(fitness)\n",
    "selection = [1-(f/total_fitness) for f in fitness]\n",
    "print(list(zip(fitness, selection)))"
   ]
  },
  {
   "cell_type": "code",
   "execution_count": 223,
   "id": "7e459d3f-bd4d-49b0-bb32-333639c97a89",
   "metadata": {},
   "outputs": [
    {
     "data": {
      "text/plain": [
       "[[0, 3, 5, 8, 5, 5, 3, 12], [7, 3, 0, 8, 5, 3, 3, 12]]"
      ]
     },
     "execution_count": 223,
     "metadata": {},
     "output_type": "execute_result"
    }
   ],
   "source": [
    "random.choices(agents, k=2, weights=selection)"
   ]
  },
  {
   "cell_type": "code",
   "execution_count": 206,
   "id": "fb6bc15e-8c19-4b0d-aa31-11954609c1bd",
   "metadata": {},
   "outputs": [
    {
     "data": {
      "text/plain": [
       "True"
      ]
     },
     "execution_count": 206,
     "metadata": {},
     "output_type": "execute_result"
    }
   ],
   "source": [
    "a>b "
   ]
  },
  {
   "cell_type": "code",
   "execution_count": 154,
   "id": "deabe0d1-7972-4478-9b69-f85a5675e683",
   "metadata": {},
   "outputs": [
    {
     "name": "stdout",
     "output_type": "stream",
     "text": [
      "[10, 5, 12, 2, 0, 12, 5]\n",
      "[10, 5, 12, 2, 0, 12, 7]\n"
     ]
    },
    {
     "data": {
      "text/plain": [
       "[0, 12, 7]"
      ]
     },
     "execution_count": 154,
     "metadata": {},
     "output_type": "execute_result"
    }
   ],
   "source": [
    "print(b)\n",
    "b.mutate()\n",
    "print(b)\n",
    "b[-3:]"
   ]
  },
  {
   "cell_type": "markdown",
   "id": "9912c97a-5cf6-48de-9e83-aa4409d7e6b3",
   "metadata": {},
   "source": [
    "### Perform"
   ]
  },
  {
   "cell_type": "code",
   "execution_count": 17,
   "id": "8c70dfca-3732-43e6-a8ef-5e689d40e6ba",
   "metadata": {},
   "outputs": [],
   "source": [
    "def fitness(agent: list[int]) -> float:\n",
    "    return sum([target[n] - i for n,i in enumerate(agent)])/8"
   ]
  },
  {
   "cell_type": "code",
   "execution_count": 26,
   "id": "26275aed-d96c-4fb5-8182-8257d5fcd9db",
   "metadata": {},
   "outputs": [
    {
     "data": {
      "text/plain": [
       "[0, 0, 2, 2, 7, 10, 2, 2]"
      ]
     },
     "execution_count": 26,
     "metadata": {},
     "output_type": "execute_result"
    }
   ],
   "source": [
    "fitnesses = [fitness(agent) for agent in agents]\n",
    "agents[fitnesses.index(max(fitnesses))]"
   ]
  },
  {
   "cell_type": "markdown",
   "id": "61056836-b930-4dbd-940b-f12d14a0951c",
   "metadata": {},
   "source": [
    "### Select"
   ]
  },
  {
   "cell_type": "code",
   "execution_count": null,
   "id": "58e4b97d-1e0d-4990-9182-9ba4ce70ae6a",
   "metadata": {},
   "outputs": [],
   "source": []
  },
  {
   "cell_type": "markdown",
   "id": "326b328f-976c-46f6-ba33-96f07db080e4",
   "metadata": {},
   "source": [
    "### Regenerate"
   ]
  },
  {
   "cell_type": "code",
   "execution_count": null,
   "id": "f7d181fd-6e37-4bde-a6b4-f89ae716e7cc",
   "metadata": {},
   "outputs": [],
   "source": []
  },
  {
   "cell_type": "code",
   "execution_count": null,
   "id": "3a949b63-f6aa-4ec3-8d96-8db15de469a1",
   "metadata": {},
   "outputs": [],
   "source": []
  },
  {
   "cell_type": "code",
   "execution_count": null,
   "id": "dbb959a6-a3bc-4923-ab92-a4f18ad2ecf9",
   "metadata": {},
   "outputs": [],
   "source": []
  }
 ],
 "metadata": {
  "kernelspec": {
   "display_name": "Python 3 (ipykernel)",
   "language": "python",
   "name": "python3"
  },
  "language_info": {
   "codemirror_mode": {
    "name": "ipython",
    "version": 3
   },
   "file_extension": ".py",
   "mimetype": "text/x-python",
   "name": "python",
   "nbconvert_exporter": "python",
   "pygments_lexer": "ipython3",
   "version": "3.10.1"
  }
 },
 "nbformat": 4,
 "nbformat_minor": 5
}
